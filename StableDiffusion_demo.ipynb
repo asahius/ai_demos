{
  "cells": [
    {
      "cell_type": "markdown",
      "metadata": {
        "id": "9NENcrgDJv9q"
      },
      "source": [
        "論文  \n",
        "https://arxiv.org/abs/2112.10752<br>\n",
        "<br>\n",
        "GitHub  \n",
        "https://github.com/CompVis/stable-diffusion<br>\n",
        "<br>\n",
        "<a href=\"https://colab.research.google.com/github/kaz12tech/ai_demos/blob/master/StableDiffusion_demo.ipynb\" target=\"_blank\"><img src=\"https://colab.research.google.com/assets/colab-badge.svg\" alt=\"Open In Colab\"/></a>"
      ]
    },
    {
      "cell_type": "markdown",
      "metadata": {
        "id": "LHqYjlJ4Jv9u"
      },
      "source": [
        "## 環境セットアップ"
      ]
    },
    {
      "cell_type": "markdown",
      "metadata": {
        "id": "z7jySK7RJv9v"
      },
      "source": [
        "## GPU確認"
      ]
    },
    {
      "cell_type": "code",
      "execution_count": null,
      "metadata": {
        "id": "2PcII5fLdHnJ"
      },
      "outputs": [],
      "source": [
        "!nvidia-smi"
      ]
    },
    {
      "cell_type": "markdown",
      "metadata": {
        "id": "aaAzHlBvJv9y"
      },
      "source": [
        "## GitHubからコード取得"
      ]
    },
    {
      "cell_type": "code",
      "execution_count": null,
      "metadata": {
        "id": "R-Y5auuvnnnT"
      },
      "outputs": [],
      "source": [
        "%cd /content\n",
        "\n",
        "!git clone https://github.com/CompVis/stable-diffusion.git"
      ]
    },
    {
      "cell_type": "markdown",
      "metadata": {
        "id": "4tp-fduPJv9z"
      },
      "source": [
        "## ライブラリのインストール"
      ]
    },
    {
      "cell_type": "code",
      "execution_count": null,
      "metadata": {
        "id": "LScsvO3UppqT"
      },
      "outputs": [],
      "source": [
        "%cd /content\n"
      ]
    },
    {
      "cell_type": "markdown",
      "metadata": {
        "id": "Ka3Dh7n9Jv92"
      },
      "source": [
        "## 学習済みモデルのダウンロード"
      ]
    },
    {
      "cell_type": "code",
      "execution_count": null,
      "metadata": {
        "id": "QYmO4couoYhz"
      },
      "outputs": [],
      "source": [
        "# https://stability.ai/research-access-form\n",
        "# 上記で申請必須"
      ]
    },
    {
      "cell_type": "markdown",
      "metadata": {
        "id": "VIWoFf9MJv91"
      },
      "source": [
        "## ライブラリのインポート"
      ]
    },
    {
      "cell_type": "code",
      "execution_count": null,
      "metadata": {
        "id": "o2lxptJeo6kr"
      },
      "outputs": [],
      "source": [
        ""
      ]
    }
  ],
  "metadata": {
    "accelerator": "GPU",
    "colab": {
      "collapsed_sections": [],
      "name": "StableDiffusion_demo.ipynb",
      "provenance": []
    },
    "kernelspec": {
      "display_name": "Python 3",
      "name": "python3"
    },
    "language_info": {
      "name": "python"
    },
    "orig_nbformat": 4
  },
  "nbformat": 4,
  "nbformat_minor": 0
}