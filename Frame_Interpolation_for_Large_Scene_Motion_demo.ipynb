{
  "cells": [
    {
      "cell_type": "markdown",
      "metadata": {
        "id": "l3iDngOuTOcy"
      },
      "source": [
        "論文  \n",
        "https://arxiv.org/abs/2202.04901  \n",
        "  \n",
        "GitHub  \n",
        "https://github.com/google-research/frame-interpolation  \n",
        "  \n",
        "<a href=\"https://colab.research.google.com/github/kaz12tech/ai_demos/blob/master/Frame_Interpolation_for_Large_Scene_Motion.ipynb\" target=\"_blank\"><img src=\"https://colab.research.google.com/assets/colab-badge.svg\" alt=\"Open In Colab\"/></a>"
      ]
    },
    {
      "cell_type": "markdown",
      "metadata": {
        "id": "39JlgMiNTOc4"
      },
      "source": [
        "# ランタイムの設定\n",
        "「ランタイム」→「ランタイムのタイプを変更」→「ハードウェアアクセラレータ」をGPUに変更"
      ]
    },
    {
      "cell_type": "markdown",
      "metadata": {
        "id": "qzColHIJTOc5"
      },
      "source": [
        "# 実行方法\n",
        "「ランタイム」→「すべてのセルを実行」を選択"
      ]
    },
    {
      "cell_type": "code",
      "execution_count": null,
      "metadata": {
        "colab": {
          "base_uri": "https://localhost:8080/"
        },
        "id": "m0RHOC3STOc6",
        "outputId": "71bd63bf-4c6b-4135-f836-5b5f7543eb5b"
      },
      "outputs": [],
      "source": [
        "!nvidia-smi"
      ]
    },
    {
      "cell_type": "markdown",
      "metadata": {
        "id": "ohdGVHm3h2nR"
      },
      "source": [
        "# Google Driveをマウント"
      ]
    },
    {
      "cell_type": "code",
      "execution_count": null,
      "metadata": {
        "colab": {
          "base_uri": "https://localhost:8080/"
        },
        "id": "bjTD93wXhqRF",
        "outputId": "428d8e4a-5692-40ca-8e54-bdb25d322fe8"
      },
      "outputs": [],
      "source": [
        "from google.colab import drive\n",
        "drive.mount('/content/drive')"
      ]
    },
    {
      "cell_type": "markdown",
      "metadata": {
        "id": "hCVmfemRTOc7"
      },
      "source": [
        "# GitHubからFILMのソースコードを取得"
      ]
    },
    {
      "cell_type": "code",
      "execution_count": null,
      "metadata": {
        "colab": {
          "base_uri": "https://localhost:8080/"
        },
        "id": "5kaQH9a2TOc8",
        "outputId": "851ee51b-a749-47d9-e20b-e8c262b47aee"
      },
      "outputs": [],
      "source": [
        "%cd /content/\n",
        "\n",
        "!git clone https://github.com/google-research/frame-interpolation frame_interpolation"
      ]
    },
    {
      "cell_type": "markdown",
      "metadata": {
        "id": "0IlFyjOXTcAu"
      },
      "source": [
        "# ライブラリのインストール"
      ]
    },
    {
      "cell_type": "code",
      "execution_count": null,
      "metadata": {
        "colab": {
          "base_uri": "https://localhost:8080/",
          "height": 1000
        },
        "id": "f5L__goQTe23",
        "outputId": "f9564206-5f96-45e2-fb61-b5736b1a43e3"
      },
      "outputs": [],
      "source": [
        "%cd /content/\n",
        "\n",
        "!pip install apache-beam==2.34.0 mediapy==1.0.3\n",
        "!apt-get install ffmpeg"
      ]
    },
    {
      "cell_type": "markdown",
      "metadata": {
        "id": "fE240tomUbTn"
      },
      "source": [
        "# 学習済みモデルのロード\n",
        "gdownを使用してファイルダウンロードができないため  \n",
        "https://drive.google.com/drive/folders/1q8110-qp225asX3DQvZnfLfJPkCHmDpy  \n",
        "を開き「ドライブにショートカットを追加」を選択して「マイドライブ」にショートカットを追加する  "
      ]
    },
    {
      "cell_type": "code",
      "execution_count": null,
      "metadata": {
        "id": "WpHB0L0wUHFw"
      },
      "outputs": [],
      "source": [
        "import os\n",
        "if not os.path.exists(\"/content/drive/MyDrive/file_net\") or not os.path.exists(\"/content/drive/MyDrive/vgg\"):\n",
        "  assert FileNotFoundError(\"Please add short cut on your own\")"
      ]
    },
    {
      "cell_type": "markdown",
      "metadata": {
        "id": "FkeqnIsrjGiT"
      },
      "source": [
        "# One mid-frame interpolation"
      ]
    },
    {
      "cell_type": "code",
      "execution_count": null,
      "metadata": {
        "colab": {
          "base_uri": "https://localhost:8080/"
        },
        "id": "z2S60dagjJrg",
        "outputId": "9029d832-01b1-4428-8cdf-74dabc7a7713"
      },
      "outputs": [],
      "source": [
        "%cd /content/\n",
        "\n",
        "!python3 -m frame_interpolation.eval.interpolator_test \\\n",
        "     --frame1 /content/frame_interpolation/photos/one.png \\\n",
        "     --frame2 /content/frame_interpolation/photos/two.png \\\n",
        "     --model_path /content/drive/MyDrive/film_net/Style/saved_model \\\n",
        "     --output_frame /content/frame_interpolation/photos/middle.png \\"
      ]
    },
    {
      "cell_type": "markdown",
      "metadata": {
        "id": "SAPQJcvJnKQ2"
      },
      "source": [
        "# Many in-between frames interpolation"
      ]
    },
    {
      "cell_type": "code",
      "execution_count": null,
      "metadata": {
        "colab": {
          "base_uri": "https://localhost:8080/"
        },
        "id": "ct-Ai-wenKx6",
        "outputId": "7cf1bfec-2892-4501-8eaa-141095269a84"
      },
      "outputs": [],
      "source": [
        "%cd /content/\n",
        "\n",
        "!python3 -m frame_interpolation.eval.interpolator_cli \\\n",
        "     --pattern \"/content/frame_interpolation/photos\" \\\n",
        "     --model_path /content/drive/MyDrive/film_net/Style/saved_model \\\n",
        "     --times_to_interpolate 6 \\\n",
        "     --output_video"
      ]
    },
    {
      "cell_type": "code",
      "execution_count": null,
      "metadata": {
        "colab": {
          "base_uri": "https://localhost:8080/",
          "height": 439
        },
        "id": "ECFiJT3EqKrF",
        "outputId": "2c8f9ce3-3527-43b3-fd03-f4b5055c591a"
      },
      "outputs": [],
      "source": [
        "from moviepy.editor import *\n",
        "from moviepy.video.fx.resize import resize\n",
        "\n",
        "clip = VideoFileClip(\"/content/frame_interpolation/photos/interpolated.mp4\")\n",
        "# 表示用にリサイズ\n",
        "clip = resize(clip, height=400)\n",
        "clip.ipython_display()\n"
      ]
    }
  ],
  "metadata": {
    "accelerator": "GPU",
    "colab": {
      "collapsed_sections": [],
      "name": "Frame_Interpolation_for_Large_Scene_Motion_demo.ipynb",
      "provenance": [],
      "toc_visible": true
    },
    "kernelspec": {
      "display_name": "Python 3",
      "name": "python3"
    },
    "language_info": {
      "name": "python"
    },
    "orig_nbformat": 4
  },
  "nbformat": 4,
  "nbformat_minor": 0
}
