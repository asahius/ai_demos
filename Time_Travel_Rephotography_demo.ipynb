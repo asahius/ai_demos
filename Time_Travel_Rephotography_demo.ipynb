{
  "cells": [
    {
      "cell_type": "markdown",
      "metadata": {
        "id": "G9fueCPLFKin"
      },
      "source": [
        "GitHub<br>\n",
        "https://github.com/Time-Travel-Rephotography/Time-Travel-Rephotography.github.io<br>\n",
        "論文<br>\n",
        "https://arxiv.org/abs/2012.12261<br>\n",
        "<br>\n",
        "<a href=\"https://colab.research.google.com/github/kaz12tech/ai_demos/blob/master/Time_Travel_Rephotography_demo.ipynb\" target=\"_blank\"><img src=\"https://colab.research.google.com/assets/colab-badge.svg\" alt=\"Open In Colab\"/></a>"
      ]
    },
    {
      "cell_type": "markdown",
      "metadata": {
        "id": "894c0QeEFKit"
      },
      "source": [
        "# 環境セットアップ"
      ]
    },
    {
      "cell_type": "markdown",
      "metadata": {
        "id": "iWBmluQQx-MK"
      },
      "source": [
        "## GPU確認"
      ]
    },
    {
      "cell_type": "code",
      "execution_count": null,
      "metadata": {
        "colab": {
          "base_uri": "https://localhost:8080/"
        },
        "id": "qyLiFmW6x_3w",
        "outputId": "66624a9f-3950-4c30-eb47-b528f0632a0a"
      },
      "outputs": [],
      "source": [
        "!nvidia-smi"
      ]
    },
    {
      "cell_type": "markdown",
      "metadata": {
        "id": "TmL3LoMMGcNF"
      },
      "source": [
        "## Githubからソースコード取得"
      ]
    },
    {
      "cell_type": "code",
      "execution_count": null,
      "metadata": {
        "colab": {
          "base_uri": "https://localhost:8080/"
        },
        "id": "tthUF7D6FKiu",
        "outputId": "92251e9d-5f80-4184-df3a-4ad03465cd2d"
      },
      "outputs": [],
      "source": [
        "%cd /content\n",
        "\n",
        "!git clone  --depth 1 --recurse-submodules --shallow-submodules \\\n",
        "  https://github.com/Time-Travel-Rephotography/Time-Travel-Rephotography.github.io.git Time-Travel-Rephotography"
      ]
    },
    {
      "cell_type": "markdown",
      "metadata": {
        "id": "2-2Fh1sOHdnn"
      },
      "source": [
        "## ライブラリのインストール"
      ]
    },
    {
      "cell_type": "code",
      "execution_count": null,
      "metadata": {
        "colab": {
          "base_uri": "https://localhost:8080/"
        },
        "id": "AP8SsHYvHfkR",
        "outputId": "12cbed8d-022d-486b-c3b2-5258cd351634"
      },
      "outputs": [],
      "source": [
        "%cd /content/Time-Travel-Rephotography\n",
        "\n",
        "!pip3 install -r requirements.txt\n",
        "!pip3 install --upgrade gdown"
      ]
    },
    {
      "cell_type": "markdown",
      "metadata": {
        "id": "mgANPXUSy_MJ"
      },
      "source": [
        "## ライブラリのインポート"
      ]
    },
    {
      "cell_type": "code",
      "execution_count": null,
      "metadata": {
        "colab": {
          "base_uri": "https://localhost:8080/"
        },
        "id": "hq7ZoY0oh260",
        "outputId": "c5735280-3d13-434f-a38a-5ee4e8a9535c"
      },
      "outputs": [],
      "source": [
        "%cd /content/Time-Travel-Rephotography\n",
        "\n",
        "from pathlib import Path\n",
        "import os\n",
        "\n",
        "from argparse import Namespace\n",
        "from projector import (\n",
        "    ProjectorArguments,\n",
        "    main,\n",
        ")"
      ]
    },
    {
      "cell_type": "markdown",
      "metadata": {
        "id": "jRBoab25xtgl"
      },
      "source": [
        "# 学習済みモデルのセットアップ"
      ]
    },
    {
      "cell_type": "code",
      "execution_count": null,
      "metadata": {
        "colab": {
          "base_uri": "https://localhost:8080/"
        },
        "id": "5cSMMFMwx2P5",
        "outputId": "16aeae4c-0941-4397-872f-b3bf7da5130e"
      },
      "outputs": [],
      "source": [
        "%cd /content/Time-Travel-Rephotography\n",
        "!mkdir -p ./checkpoint/encoder\n",
        "\n",
        "if not os.path.exists('checkpoint/e4e_ffhq_encode.pt'):\n",
        "  !gdown https://drive.google.com/uc?id=1YLB-3ZCv6FRAWwCHkTvUou_CAvDcb5Pr -O checkpoint/e4e_ffhq_encode.pt\n",
        "if not os.path.exists('checkpoint/stylegan2-ffhq-config-f.pt'):\n",
        "  !gdown https://drive.google.com/uc?id=1aSnTVHGNzQ-Eh5rNDOrOc_4SjQbNMq3B -O checkpoint/stylegan2-ffhq-config-f.pt\n",
        "if not os.path.exists('checkpoint/vgg_face_dag.pt'):\n",
        "  !gdown https://drive.google.com/uc?id=12BHlsSQM0D8KyXprIc7WmJRLWBWdtF56 -O checkpoint/vgg_face_dag.pt\n",
        "\n",
        "if not os.path.exists('checkpoint/checkpoint_b.pt'):\n",
        "  !gdown https://drive.google.com/uc?id=1fXBCyBKNEZfeiI6LEHTEnUg_DjWHJy5r -O checkpoint/encoder/checkpoint_b.pt\n",
        "if not os.path.exists('checkpoint/checkpoint_g.pt'):\n",
        "  !gdown https://drive.google.com/uc?id=1YnQEPf7FyfZxAVQg-CpbvdF4otZeTOZh -O checkpoint/encoder/checkpoint_g.pt\n",
        "if not os.path.exists('checkpoint/checkpoint_gb.pt'):\n",
        "  !gdown https://drive.google.com/uc?id=1kelQK3pUdeHwu8uVE7A4WZH_EjHxGE6v -O checkpoint/encoder/checkpoint_gb.pt\n",
        "\n",
        "%cd /content/Time-Travel-Rephotography/third_party/face_parsing\n",
        "!mkdir -p res/cp\n",
        "\n",
        "if not os.path.exists('checkpoint/res/cp/79999_iter.pth'):\n",
        "  !gdown https://drive.google.com/uc?id=1vwm4BcAKISQgcJLvTUcvesk73UIYdDMF -O res/cp/79999_iter.pth"
      ]
    },
    {
      "cell_type": "markdown",
      "metadata": {
        "id": "_BB4TY8OyFkw"
      },
      "source": [
        "# テスト画像のセットアップ"
      ]
    },
    {
      "cell_type": "code",
      "execution_count": null,
      "metadata": {
        "colab": {
          "base_uri": "https://localhost:8080/"
        },
        "id": "O6-h-pFo_jHI",
        "outputId": "4f4e78f7-365b-4793-bdf1-969a87040065"
      },
      "outputs": [],
      "source": [
        "%cd /content/Time-Travel-Rephotography\n",
        "\n",
        "# default\n",
        "# input_path = \"/content/Time-Travel-Rephotography/dataset/Abraham Lincoln_01.png\"\n",
        "# アインシュタイン\n",
        "# !wget https://astro-dic.jp/wp/wp-content/uploads/A_Einstein-1.jpg -O ./dataset/test.jpg\n",
        "# マリリンモンロー\n",
        "!wget https://www.allcinema.net/img/6/6476/p_40178_01_01_02.jpg -O ./dataset/test.jpg\n",
        "\n",
        "input_path = \"/content/Time-Travel-Rephotography/dataset/test.jpg\""
      ]
    },
    {
      "cell_type": "markdown",
      "metadata": {
        "id": "L7CAMLDq_oww"
      },
      "source": [
        "# Prompts"
      ]
    },
    {
      "cell_type": "code",
      "execution_count": null,
      "metadata": {
        "id": "OSk6Wif6_qrt"
      },
      "outputs": [],
      "source": [
        "#@markdown 'b' (blue-sensitive), 'gb' (orthochromatic), 'g' (panchromatic)\n",
        "spectral_sensitivity = \"b\" # @param [\"b\", \"gb\", \"g\"]\n",
        "#@markdown Estimated blur radius of the input photo\n",
        "gaussian_radius =   0.75 # @param {type:\"number\"}"
      ]
    },
    {
      "cell_type": "code",
      "execution_count": null,
      "metadata": {
        "colab": {
          "base_uri": "https://localhost:8080/"
        },
        "id": "QVHlLPibAYvS",
        "outputId": "da055586-6450-4a65-c05b-c4f629a80b4d"
      },
      "outputs": [],
      "source": [
        "args = ProjectorArguments().parse(\n",
        "    args=[str(input_path)], \n",
        "    namespace=Namespace(\n",
        "        spectral_sensitivity=spectral_sensitivity,\n",
        "        encoder_ckpt=f\"checkpoint/encoder/checkpoint_{spectral_sensitivity}.pt\",\n",
        "        encoder_name=spectral_sensitivity,\n",
        "        gaussian=gaussian_radius,\n",
        "        log_visual_freq=1000,\n",
        "        log_dir=\"log/\",\n",
        "        results_dir=\"results/\"\n",
        "))\n",
        "main(args)"
      ]
    },
    {
      "cell_type": "code",
      "execution_count": null,
      "metadata": {
        "colab": {
          "base_uri": "https://localhost:8080/",
          "height": 398
        },
        "id": "y4qDyrLUFxab",
        "outputId": "f6faee3f-5197-4019-97a4-1ed4abedb8fb"
      },
      "outputs": [],
      "source": [
        "from PIL import Image\n",
        "from IPython.display import display\n",
        "\n",
        "def get_concat_h_multi_resize(im_list, resample=Image.BICUBIC):\n",
        "    min_height = min(im.height for im in im_list)\n",
        "    im_list_resize = [im.resize((int(im.width * min_height / im.height), min_height),resample=resample)\n",
        "                      for im in im_list]\n",
        "    total_width = sum(im.width for im in im_list_resize)\n",
        "    dst = Image.new('RGB', (total_width, min_height))\n",
        "    pos_x = 0\n",
        "    for im in im_list_resize:\n",
        "        dst.paste(im, (pos_x, 0))\n",
        "        pos_x += im.width\n",
        "    return dst\n",
        "\n",
        "im1 = Image.open(f\"/content/Time-Travel-Rephotography/results/test_{spectral_sensitivity}.png\")\n",
        "im2 = Image.open('/content/Time-Travel-Rephotography/results/test/skin_mask/face_parsing/input.jpg')\n",
        "im3 = Image.open(f\"/content/Time-Travel-Rephotography/results/test-{spectral_sensitivity}-G{gaussian_radius}-init(10,18)-s256-vgg1-vggface0.3-eye0.1-color1.0e+10-cx0.1(relu3_4,relu2_2,relu1_2)-NR5.0e+04-lr0.1_0.01-c32-wp(250,750).png\")\n",
        "\n",
        "concat_img = get_concat_h_multi_resize([im1, im2, im3])\n",
        "\n",
        "display(concat_img)"
      ]
    }
  ],
  "metadata": {
    "accelerator": "GPU",
    "colab": {
      "collapsed_sections": [],
      "name": "Time_Travel_Rephotography_demo.ipynb",
      "provenance": []
    },
    "kernelspec": {
      "display_name": "Python 3",
      "name": "python3"
    },
    "language_info": {
      "name": "python"
    }
  },
  "nbformat": 4,
  "nbformat_minor": 0
}
